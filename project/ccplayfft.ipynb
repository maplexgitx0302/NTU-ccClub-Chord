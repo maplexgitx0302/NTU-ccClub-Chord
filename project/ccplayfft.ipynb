{
 "cells": [
  {
   "cell_type": "code",
   "execution_count": 4,
   "metadata": {},
   "outputs": [
    {
     "data": {
      "text/html": [
       "<div>\n",
       "<style scoped>\n",
       "    .dataframe tbody tr th:only-of-type {\n",
       "        vertical-align: middle;\n",
       "    }\n",
       "\n",
       "    .dataframe tbody tr th {\n",
       "        vertical-align: top;\n",
       "    }\n",
       "\n",
       "    .dataframe thead th {\n",
       "        text-align: right;\n",
       "    }\n",
       "</style>\n",
       "<table border=\"1\" class=\"dataframe\">\n",
       "  <thead>\n",
       "    <tr style=\"text-align: right;\">\n",
       "      <th></th>\n",
       "      <th>Title</th>\n",
       "      <th>Link</th>\n",
       "      <th>Start_Second</th>\n",
       "      <th>Tempo</th>\n",
       "      <th>Capo</th>\n",
       "      <th>Tune</th>\n",
       "      <th>3 or 4</th>\n",
       "      <th>Chords</th>\n",
       "    </tr>\n",
       "  </thead>\n",
       "  <tbody>\n",
       "    <tr>\n",
       "      <th>0</th>\n",
       "      <td>心願便利貼</td>\n",
       "      <td>https://www.youtube.com/watch?v=ySb4DUmqrMo</td>\n",
       "      <td>0.0</td>\n",
       "      <td>96.0</td>\n",
       "      <td>0</td>\n",
       "      <td>C</td>\n",
       "      <td>4</td>\n",
       "      <td>C|C,F/C|C|G7|F|C/E|Dm7,G7|C|   C,G/B|Am,C/G|F,...</td>\n",
       "    </tr>\n",
       "    <tr>\n",
       "      <th>1</th>\n",
       "      <td>飛鳥和蟬</td>\n",
       "      <td>https://www.youtube.com/watch?v=V0XUd8f2pz8</td>\n",
       "      <td>3.2</td>\n",
       "      <td>74.0</td>\n",
       "      <td>3</td>\n",
       "      <td>G</td>\n",
       "      <td>4</td>\n",
       "      <td>G|D/F#|Em7|Cmaj7|G|D/F#|Em7|Cmaj7|G|Bm7|Em7|Bm...</td>\n",
       "    </tr>\n",
       "    <tr>\n",
       "      <th>2</th>\n",
       "      <td>晴天</td>\n",
       "      <td>https://www.youtube.com/watch?v=v10bFxUDZsA</td>\n",
       "      <td>1.1</td>\n",
       "      <td>68.5</td>\n",
       "      <td>0</td>\n",
       "      <td>G</td>\n",
       "      <td>4</td>\n",
       "      <td>Em7,Cadd9|G,D/F#|Em7,Cadd9|G,D/F#|Em7,Cadd9|G,...</td>\n",
       "    </tr>\n",
       "    <tr>\n",
       "      <th>3</th>\n",
       "      <td>不是因為天氣晴朗才愛你</td>\n",
       "      <td>https://www.youtube.com/watch?v=9_068Ekk_fs</td>\n",
       "      <td>3.5</td>\n",
       "      <td>68.0</td>\n",
       "      <td>1</td>\n",
       "      <td>G</td>\n",
       "      <td>4</td>\n",
       "      <td>G|D/F#|Cmaj7|D11|G|D/F#|Cmaj7|D11|G,D/F#|Em7|C...</td>\n",
       "    </tr>\n",
       "    <tr>\n",
       "      <th>4</th>\n",
       "      <td>披星戴月的想你</td>\n",
       "      <td>https://www.youtube.com/watch?v=LX-qN5V1eiE</td>\n",
       "      <td>2.9</td>\n",
       "      <td>100.0</td>\n",
       "      <td>4</td>\n",
       "      <td>C</td>\n",
       "      <td>4</td>\n",
       "      <td>C|C|Em|Em|Am|Am|F|F|C|C|Em|Em|Am|Am|F|F|C|C|Em...</td>\n",
       "    </tr>\n",
       "  </tbody>\n",
       "</table>\n",
       "</div>"
      ],
      "text/plain": [
       "         Title                                         Link  Start_Second  \\\n",
       "0        心願便利貼  https://www.youtube.com/watch?v=ySb4DUmqrMo           0.0   \n",
       "1         飛鳥和蟬  https://www.youtube.com/watch?v=V0XUd8f2pz8           3.2   \n",
       "2           晴天  https://www.youtube.com/watch?v=v10bFxUDZsA           1.1   \n",
       "3  不是因為天氣晴朗才愛你  https://www.youtube.com/watch?v=9_068Ekk_fs           3.5   \n",
       "4      披星戴月的想你  https://www.youtube.com/watch?v=LX-qN5V1eiE           2.9   \n",
       "\n",
       "   Tempo  Capo Tune  3 or 4                                             Chords  \n",
       "0   96.0     0    C       4  C|C,F/C|C|G7|F|C/E|Dm7,G7|C|   C,G/B|Am,C/G|F,...  \n",
       "1   74.0     3    G       4  G|D/F#|Em7|Cmaj7|G|D/F#|Em7|Cmaj7|G|Bm7|Em7|Bm...  \n",
       "2   68.5     0    G       4  Em7,Cadd9|G,D/F#|Em7,Cadd9|G,D/F#|Em7,Cadd9|G,...  \n",
       "3   68.0     1    G       4  G|D/F#|Cmaj7|D11|G|D/F#|Cmaj7|D11|G,D/F#|Em7|C...  \n",
       "4  100.0     4    C       4  C|C|Em|Em|Am|Am|F|F|C|C|Em|Em|Am|Am|F|F|C|C|Em...  "
      ]
     },
     "execution_count": 4,
     "metadata": {},
     "output_type": "execute_result"
    }
   ],
   "source": [
    "import os\n",
    "import pandas as pd\n",
    "import librosa\n",
    "import ccplay, ccpreprocess\n",
    "\n",
    "dir_path     = os.path.abspath('')\n",
    "excel_path   = os.path.join(dir_path, 'ccClub music data (popular music).xlsx')\n",
    "excel_data   = pd.read_excel(excel_path, dtype={'Capo':int, '3 or 4':int})\n",
    "\n",
    "excel_data.head(5)"
   ]
  },
  {
   "cell_type": "code",
   "execution_count": 5,
   "metadata": {},
   "outputs": [
    {
     "name": "stdout",
     "output_type": "stream",
     "text": [
      "Loading 江南.wav ...\n",
      "Transforming 江南.wav ...\n",
      "Done!\n"
     ]
    }
   ],
   "source": [
    "test_music = excel_data.iloc[25]\n",
    "print(f\"Loading {test_music['Title']}.wav ...\")\n",
    "y, sr = librosa.load(os.path.join(dir_path, 'music_trim', f\"{test_music['Title']}.wav\"))\n",
    "music = ccpreprocess.Music(test_music['Title'], tempo=test_music['Tempo'], \n",
    "                            sections=len(test_music['Chords'].strip('|').split('|')), \n",
    "                            beats_per_section=4, slices_per_beat=test_music['3 or 4'],\n",
    "                            f_min=-36, f_max=27, A4=440)\n",
    "print(f\"Transforming {test_music['Title']}.wav ...\")\n",
    "amplitude_matrix     = music.extract_amplitude_matrix()\n",
    "composition_original = music.composite_wave(amplitude_matrix)\n",
    "print(f\"Done!\")"
   ]
  },
  {
   "cell_type": "code",
   "execution_count": 6,
   "metadata": {},
   "outputs": [],
   "source": [
    "ccplay.play_sound(composition_original, music.sr, stop_time=5)"
   ]
  }
 ],
 "metadata": {
  "interpreter": {
   "hash": "31f2aee4e71d21fbe5cf8b01ff0e069b9275f58929596ceb00d14d90e3e16cd6"
  },
  "kernelspec": {
   "display_name": "Python 3.8.9 64-bit",
   "name": "python3"
  },
  "language_info": {
   "codemirror_mode": {
    "name": "ipython",
    "version": 3
   },
   "file_extension": ".py",
   "mimetype": "text/x-python",
   "name": "python",
   "nbconvert_exporter": "python",
   "pygments_lexer": "ipython3",
   "version": "3.8.9"
  },
  "orig_nbformat": 4
 },
 "nbformat": 4,
 "nbformat_minor": 2
}
