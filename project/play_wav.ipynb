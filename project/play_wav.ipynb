{
 "cells": [
  {
   "cell_type": "code",
   "execution_count": 18,
   "metadata": {},
   "outputs": [],
   "source": [
    "import os\n",
    "import librosa\n",
    "import sounddevice as sd\n",
    "import numpy as np\n",
    "import ccdownload\n",
    "import ccpreprocess\n",
    "\n",
    "dir_path   = ccdownload.dir_path   # directory path of the ccClub project\n",
    "music_path = ccdownload.music_path # directory path for saving wave files\n",
    "\n",
    "example_music = ccdownload.example_music\n",
    "y_mono, sr_mono     = librosa.load(example_music)\n",
    "y_double, sr_double = librosa.load(example_music, mono=False)\n",
    "\n",
    "music_strip = os.path.join(music_path, '魏如萱 waa wei - 刻在我心底的名字（盧廣仲） cover 【電影《刻在你心底的名字》主題曲】.wav')\n",
    "y_strip, sr_strip = librosa.load(music_strip)"
   ]
  },
  {
   "cell_type": "code",
   "execution_count": 19,
   "metadata": {},
   "outputs": [],
   "source": [
    "def play_sound(y, sr):\n",
    "    sd.play(y / np.max(np.abs(y)), sr)"
   ]
  },
  {
   "cell_type": "code",
   "execution_count": 22,
   "metadata": {},
   "outputs": [],
   "source": [
    "# play_sound(y_mono[300000:], sr_mono)\n",
    "# play_sound(y_double[0][300000:], sr_double)\n",
    "# play_sound(y_double[1][300000:], sr_double)\n",
    "# play_sound(((y_double[0]+y_double[1])/2)[300000:], sr_double)\n",
    "\n",
    "\n",
    "# play_sound(y_strip, sr_strip)\n",
    "play_sound(ccpreprocess.strip(y_strip), sr_strip)\n"
   ]
  },
  {
   "cell_type": "code",
   "execution_count": 23,
   "metadata": {},
   "outputs": [],
   "source": [
    "sd.stop()"
   ]
  }
 ],
 "metadata": {
  "interpreter": {
   "hash": "7b3fa0f5430e65c6de0f3287020d82a908d0d9cdbc7909d9d8f0a23627ae5948"
  },
  "kernelspec": {
   "display_name": "Python 3.8.9 64-bit ('3.8.9': pyenv)",
   "name": "python3"
  },
  "language_info": {
   "codemirror_mode": {
    "name": "ipython",
    "version": 3
   },
   "file_extension": ".py",
   "mimetype": "text/x-python",
   "name": "python",
   "nbconvert_exporter": "python",
   "pygments_lexer": "ipython3",
   "version": "3.8.9"
  },
  "orig_nbformat": 4
 },
 "nbformat": 4,
 "nbformat_minor": 2
}
