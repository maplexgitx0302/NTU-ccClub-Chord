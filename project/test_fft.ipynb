{
 "cells": [
  {
   "cell_type": "code",
   "execution_count": 1,
   "metadata": {},
   "outputs": [
    {
     "name": "stdout",
     "output_type": "stream",
     "text": [
      "Now processing fft_test_music ... Downloading ... Converting to wav ... Complete!\n"
     ]
    }
   ],
   "source": [
    "import os\n",
    "import numpy as np\n",
    "import librosa\n",
    "import sounddevice as sd\n",
    "import matplotlib.pyplot as plt\n",
    "import ccpreprocess\n",
    "import ccdownload\n",
    "import subprocess\n",
    "\n",
    "dir_path   = ccdownload.dir_path\n",
    "music_path = os.path.join(dir_path, 'music')             # directory path for saving wav files\n",
    "\n",
    "fft_test_music = os.path.join(music_path, 'fft_test_music.wav')\n",
    "fft_test_link = 'https://www.youtube.com/watch?v=sHD_z90ZKV0'\n",
    "if os.path.isfile(fft_test_music):\n",
    "    subprocess.run(['rm', fft_test_music])\n",
    "ccdownload.yt_wav(fft_test_link, 'fft_test_music')"
   ]
  },
  {
   "cell_type": "code",
   "execution_count": 2,
   "metadata": {},
   "outputs": [],
   "source": [
    "y, sr = librosa.load(fft_test_music)\n",
    "y = ccpreprocess.strip(y)\n",
    "music = ccpreprocess.Music(y, sr, tempo=83, sections=16, beats_per_section=4, slices_per_beat=4)\n",
    "composition_softmax  = music.composite_wave(use_softmax=True)\n",
    "composition_original = music.composite_wave(use_softmax=False)"
   ]
  },
  {
   "cell_type": "code",
   "execution_count": 5,
   "metadata": {},
   "outputs": [],
   "source": [
    "# ccpreprocess.play_sound(composition_original, music.sr)\n",
    "# ccpreprocess.play_sound(composition_softmax, music.sr)"
   ]
  },
  {
   "cell_type": "code",
   "execution_count": 5,
   "metadata": {},
   "outputs": [],
   "source": [
    "sd.stop()"
   ]
  },
  {
   "cell_type": "code",
   "execution_count": 21,
   "metadata": {},
   "outputs": [],
   "source": [
    "# import soundfile as sf\n",
    "# sf.write(os.path.join(music_path, 'fft_test_composite.wav'), composition/max(np.abs(composition)), sr, 'PCM_16')"
   ]
  }
 ],
 "metadata": {
  "interpreter": {
   "hash": "31f2aee4e71d21fbe5cf8b01ff0e069b9275f58929596ceb00d14d90e3e16cd6"
  },
  "kernelspec": {
   "display_name": "Python 3.8.9 64-bit",
   "name": "python3"
  },
  "language_info": {
   "codemirror_mode": {
    "name": "ipython",
    "version": 3
   },
   "file_extension": ".py",
   "mimetype": "text/x-python",
   "name": "python",
   "nbconvert_exporter": "python",
   "pygments_lexer": "ipython3",
   "version": "3.8.9"
  },
  "orig_nbformat": 4
 },
 "nbformat": 4,
 "nbformat_minor": 2
}
