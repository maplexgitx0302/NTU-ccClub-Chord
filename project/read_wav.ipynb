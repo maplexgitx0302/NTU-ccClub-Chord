{
 "cells": [
  {
   "cell_type": "code",
   "execution_count": 1,
   "source": [
    "import os\n",
    "import librosa\n",
    "import sounddevice as sd\n",
    "import numpy as np\n",
    "import ccdownload\n",
    "import ccwebcrawl\n",
    "from matplotlib import pyplot as plt\n",
    "\n",
    "dir_path   = ccdownload.dir_path   # directory path of the ccClub project\n",
    "music_path = ccdownload.music_path # directory path for saving wave files\n",
    "\n",
    "music = ccdownload.example_music\n",
    "playlist_url = ccwebcrawl.example_url\n",
    "\n",
    "y, sr = librosa.load(music)\n",
    "urls  = ccwebcrawl.yt_playlist(playlist_url)"
   ],
   "outputs": [
    {
     "output_type": "stream",
     "name": "stdout",
     "text": [
      "Now crawling https://www.youtube.com/playlist?list=FLxe1OE4q9YkjuyYT0rjgaUA ... Done!\n"
     ]
    }
   ],
   "metadata": {}
  },
  {
   "cell_type": "code",
   "execution_count": 3,
   "source": [
    "for url in urls:\n",
    "    download_wav.yt_wav(url)"
   ],
   "outputs": [
    {
     "output_type": "stream",
     "name": "stdout",
     "text": [
      "Now processing Control T 【並不是夕陽美景 It Ain't Sunset My Dear】Official Music Video ... File already exists!\n",
      "Now processing 旺福 Won Fu《等待雨散 Waiting for the rain to stop》Official Music Video ... File already exists!\n",
      "Now processing 山崎ハコ～流れ酔い唄 ... File already exists!\n",
      "Now processing 魏如萱 waa wei  四月是適合說謊的日子 feat 裘德Chiu  Official Lyric Video ... File already exists!\n",
      "Now processing 柯智棠 Kowen  給你妳 To YouYou  Official Music Video ... File already exists!\n",
      "Now processing 滅火器 Fire EX - 長途夜車 Southbound Night Bus Lyric Video ... File already exists!\n",
      "Now processing 余佩真 Jen Jen【昏你 The Wedding feat 乱彈阿翔】Official Music Video ... File already exists!\n",
      "Now processing 范宥弦Fan Ocean  我把目光給了你 時間給了他 I Love You But   Official Music Video  ... File already exists!\n",
      "Now processing 魏如萱 waa wei - 刻在我心底的名字（盧廣仲） cover 【電影《刻在你心底的名字》主題曲】 ... File already exists!\n",
      "Now processing 貝克小姐Miss Bac -〈流浪 Homelessness〉Official Music Video ... File already exists!\n",
      "Now processing 92914 - Okinawa Audio ... File already exists!\n",
      "Now processing 南西肯恩 - 塵緣｜例假日 ... File already exists!\n",
      "Now processing 【聲林之王2】EP10 純享版｜葉柔 張芮僑 吱吱 給朱利安｜林宥嘉 蕭敬騰 楊乃文 9m88 JSheon Jungle Voice2 ... File already exists!\n",
      "Now processing 艾怡良 Eve Ai《給朱利安》Official Music Video ... File already exists!\n",
      "Now processing 艾怡良 Eve Ai《Forever Young》Official Music Video ... File already exists!\n",
      "Now processing 盧廣仲 Crowd Lu 【刻在我心底的名字 Your Name Engraved Herein】 Official Music Video  （刻在你心底的名字電影主題曲） ... File already exists!\n",
      "Now processing 王宏恩--Lsa naka mai-asang思念遙遠故鄉MV 1998 ... File already exists!\n",
      "Now processing 王宏恩 親愛的朋友們 ... File already exists!\n",
      "Now processing 魏如萱 waa wei  彼個所在 Heaven  Official Music Video ... File already exists!\n",
      "Now processing 【 Cover 】離開與到來 - Crispy脆樂團 ... File already exists!\n",
      "Now processing 田馥甄  Hebe Tien 《小幸運》 ... File already exists!\n",
      "Now processing 好樂團 GoodBand ─《我把我的青春給你》Official Music Video ... File already exists!\n",
      "Now processing 我多麼想成為你的鹿─南瓜妮歌迷俱樂部 Cover By 好樂團GoodBand ... File already exists!\n",
      "Now processing Angel Beats - Ichiban no Takaramono Yui final ver ... File already exists!\n",
      "Now processing 乏人問津 - Control T | 樂人Campus Voice ... File already exists!\n",
      "Now processing 無妄合作社 No-nonsense Collective－〈開店歌〉Official Music Video ... File already exists!\n",
      "Now processing ❄「求婚大作戰」主題曲:小さな恋のうた《小小戀歌》 －粉ミルク Cover中文字幕❄ ... File already exists!\n",
      "Now processing 「letter song」【ヲタみんver】附中文字幕 ... File already exists!\n",
      "Now processing Angela Aki - 手紙拜啟 給十五歲的你 電影《再會吧！青春小鳥》主題曲 ... File already exists!\n",
      "Now processing 謝春花 feat 王碧浪《還想聽你的故事 Still Wanna Hear Your Stories》官方動態歌詞MV 無損高音質 ... File already exists!\n",
      "Now processing Hello Nico〈花〉MV ... File already exists!\n",
      "Now processing te 壞特 - Just the two of us Cover｜例假日 ... File already exists!\n",
      "Now processing 【聲林之王2】EP8 純享版｜盧子杰  魏如萱 星期三或禮拜三｜林宥嘉 Jungle Voice 2 ... File already exists!\n",
      "Now processing 魏如萱 waa wei  Ophelia  Official Music Video ... File already exists!\n",
      "Now processing 《我也曾經想過一了百了（ 僕が死のうと思ったのは）》from鄭宜農 20181231 「再見2018《趨光》演唱會」現場實錄 ... File already exists!\n"
     ]
    }
   ],
   "metadata": {}
  }
 ],
 "metadata": {
  "orig_nbformat": 4,
  "language_info": {
   "name": "python",
   "version": "3.8.9"
  },
  "kernelspec": {
   "name": "python3",
   "display_name": "Python 3.8.9 64-bit ('3.8.9': pyenv)"
  },
  "interpreter": {
   "hash": "7b3fa0f5430e65c6de0f3287020d82a908d0d9cdbc7909d9d8f0a23627ae5948"
  }
 },
 "nbformat": 4,
 "nbformat_minor": 2
}