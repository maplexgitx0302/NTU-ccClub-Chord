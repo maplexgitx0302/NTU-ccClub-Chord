{
 "cells": [
  {
   "cell_type": "markdown",
   "metadata": {},
   "source": [
    "# Packages and input data"
   ]
  },
  {
   "cell_type": "code",
   "execution_count": 1,
   "metadata": {},
   "outputs": [],
   "source": [
    "import os, re, csv\n",
    "import subprocess\n",
    "import numpy as np\n",
    "import pandas as pd\n",
    "import librosa\n",
    "import soundfile\n",
    "import sounddevice as sd\n",
    "import torch\n",
    "from torch.utils.data import Dataset\n",
    "import matplotlib.pyplot as plt\n",
    "import ccpreprocess, ccdownload, ccwebcrawl, ccchord, ccplay\n",
    "\n",
    "np.random.seed(0)\n",
    "torch.manual_seed(0)\n",
    "\n",
    "dir_path   = os.path.abspath('')\n",
    "excel_path = os.path.join(dir_path, 'ccClub music data (popular music).xlsx')\n",
    "excel_data = pd.read_excel(excel_path, dtype={'Capo':int, '3 or 4':int})\n",
    "\n",
    "excel_data = excel_data.iloc[:5]\n",
    "# excel_data.head(5)"
   ]
  },
  {
   "cell_type": "markdown",
   "metadata": {},
   "source": [
    "# Download and cut down the original music"
   ]
  },
  {
   "cell_type": "code",
   "execution_count": 4,
   "metadata": {},
   "outputs": [
    {
     "name": "stdout",
     "output_type": "stream",
     "text": [
      "Now processing 心願便利貼 ... File already exists!\n",
      "Now cutting down 心願便利貼 ... File already cut!\n",
      "Now processing 飛鳥和蟬 ... File already exists!\n",
      "Now cutting down 飛鳥和蟬 ... File already cut!\n",
      "Now processing 晴天 ... File already exists!\n",
      "Now cutting down 晴天 ... File already cut!\n",
      "Now processing 不是因為天氣晴朗才愛你 ... File already exists!\n",
      "Now cutting down 不是因為天氣晴朗才愛你 ... File already cut!\n",
      "Now processing 披星戴月的想你 ... File already exists!\n",
      "Now cutting down 披星戴月的想你 ... File already cut!\n"
     ]
    }
   ],
   "source": [
    "cutdown_path = os.path.join(dir_path, 'music_cutdown')\n",
    "if os.path.isdir(cutdown_path) == False:\n",
    "    os.mkdir(cutdown_path)\n",
    "\n",
    "for i in range(len(excel_data)):\n",
    "    ccdownload.yt_wav(link=excel_data['Link'][i], file_name=excel_data['Title'][i])\n",
    "    original_music = os.path.join(ccdownload.music_path, f\"{excel_data['Title'][i]}.wav\")\n",
    "    cutdown_music  = os.path.join(cutdown_path, f\"{excel_data['Title'][i]}.wav\")\n",
    "    print(f\"Now cutting down {excel_data['Title'][i]} ... \", end='')\n",
    "    if os.path.isfile(cutdown_music) == False:\n",
    "        y, sr = librosa.load(original_music)\n",
    "        cutdown_start = int(sr * excel_data['Start_Second'][i])\n",
    "        cutdown_len   = int(len(excel_data['Chords'][i].strip('|').split('|')) * excel_data['3 or 4'][i] * (60/excel_data['Tempo'][i]) * sr)\n",
    "        y = y[cutdown_start : cutdown_start + cutdown_len]\n",
    "        soundfile.write(cutdown_music, y, sr)\n",
    "        print(f\"Cutting down finished!\")\n",
    "    else:\n",
    "        print(f\"File already cut!\")"
   ]
  },
  {
   "cell_type": "markdown",
   "metadata": {},
   "source": [
    "# Transform the input data"
   ]
  },
  {
   "cell_type": "code",
   "execution_count": 5,
   "metadata": {},
   "outputs": [
    {
     "name": "stdout",
     "output_type": "stream",
     "text": [
      "Now extracting amplitude of 心願便利貼 : -------------------------------------------------- Extraction  complete!\n",
      "Now extracting amplitude of 飛鳥和蟬 : -------------------------------------------------- Extraction  complete!\n",
      "Now extracting amplitude of 晴天 : -------------------------------------------------- Extraction  complete!\n",
      "Now extracting amplitude of 不是因為天氣晴朗才愛你 : -------------------------------------------------- Extraction  complete!\n",
      "Now extracting amplitude of 披星戴月的想你 : -------------------------------------------------- Extraction  complete!\n"
     ]
    }
   ],
   "source": [
    "Musics = []\n",
    "Chords = []\n",
    "\n",
    "for i in range(len(excel_data)):\n",
    "    padding_chord_list = ccchord.chord_padding(excel_data['Chords'][i])\n",
    "    for c in range(len(padding_chord_list)):\n",
    "        padding_chord_list[c] = ccchord.chord_simplify(padding_chord_list[c])\n",
    "        padding_chord_list[c] = ccchord.chord_numeralize(padding_chord_list[c])\n",
    "    Chords.append(np.array(padding_chord_list))\n",
    "\n",
    "    y, sr = librosa.load(os.path.join(cutdown_path, f\"{excel_data['Title'][i]}.wav\"))\n",
    "    Musics.append(ccpreprocess.Music(excel_data['Title'][i], y, sr, excel_data['Tempo'][i], sections=8,\n",
    "                                    beats_per_section=4, slices_per_beat=excel_data['3 or 4'][i],\n",
    "                                    f_min=-24, f_max=12, A4=440))\n",
    "    "
   ]
  },
  {
   "cell_type": "code",
   "execution_count": null,
   "metadata": {},
   "outputs": [],
   "source": []
  }
 ],
 "metadata": {
  "interpreter": {
   "hash": "31f2aee4e71d21fbe5cf8b01ff0e069b9275f58929596ceb00d14d90e3e16cd6"
  },
  "kernelspec": {
   "display_name": "Python 3.8.9 64-bit",
   "name": "python3"
  },
  "language_info": {
   "codemirror_mode": {
    "name": "ipython",
    "version": 3
   },
   "file_extension": ".py",
   "mimetype": "text/x-python",
   "name": "python",
   "nbconvert_exporter": "python",
   "pygments_lexer": "ipython3",
   "version": "3.8.9"
  },
  "orig_nbformat": 4
 },
 "nbformat": 4,
 "nbformat_minor": 2
}
